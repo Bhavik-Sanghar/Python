{
 "cells": [
  {
   "cell_type": "code",
   "execution_count": null,
   "metadata": {},
   "outputs": [],
   "source": []
  },
  {
   "cell_type": "code",
   "execution_count": 34,
   "metadata": {},
   "outputs": [
    {
     "name": "stdout",
     "output_type": "stream",
     "text": [
      "Mean Squared Error: 958.570674166178\n"
     ]
    }
   ],
   "source": [
    "import pandas as pd\n",
    "from sklearn.model_selection import train_test_split\n",
    "from sklearn.linear_model import LinearRegression\n",
    "from sklearn.metrics import mean_absolute_error\n",
    "\n",
    "# Assuming df is your preprocessed DataFrame\n",
    "# (Make sure to perform the preprocessing steps mentioned earlier)\n",
    "\n",
    "# Selecting features and target\n",
    "features = df[['Counterfeit_Weight', 'Active_Since', 'Medicine_MRP', 'Medicine_Type_Antimalarial', 'Medicine_Type_Cardiac',\n",
    "               'SidEffect_Level_critical', 'SidEffect_Level_mild', 'Availability_rating', 'Area_Type_CityLimits',\n",
    "               'Area_City_Type_Tier 1', 'Area_City_Type_Tier 3', 'Area_dist_level_Small', 'Area_dist_level_Medium']]\n",
    "\n",
    "target = df['Counterfeit_Sales']\n",
    "\n",
    "# Splitting the data into training and testing sets\n",
    "X_train, X_test, y_train, y_test = train_test_split(features, target, test_size=0.2, random_state=42)\n",
    "\n",
    "# Creating and training the Linear Regression model\n",
    "model = LinearRegression()\n",
    "model.fit(X_train, y_train)\n",
    "\n",
    "# Making predictions on the test set\n",
    "predictions = model.predict(X_test)\n",
    "\n",
    "# Evaluating the model\n",
    "mae = mean_absolute_error(y_test, predictions)\n",
    "print(f'Mean Squared Error: {mae}')\n"
   ]
  }
 ],
 "metadata": {
  "kernelspec": {
   "display_name": "base",
   "language": "python",
   "name": "python3"
  },
  "language_info": {
   "codemirror_mode": {
    "name": "ipython",
    "version": 3
   },
   "file_extension": ".py",
   "mimetype": "text/x-python",
   "name": "python",
   "nbconvert_exporter": "python",
   "pygments_lexer": "ipython3",
   "version": "3.11.5"
  }
 },
 "nbformat": 4,
 "nbformat_minor": 2
}
