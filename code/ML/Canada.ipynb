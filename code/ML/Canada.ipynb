{
 "cells": [
  {
   "cell_type": "code",
   "execution_count": 13,
   "metadata": {},
   "outputs": [
    {
     "name": "stdout",
     "output_type": "stream",
     "text": [
      "[41288.69409442]\n"
     ]
    },
    {
     "name": "stderr",
     "output_type": "stream",
     "text": [
      "c:\\Users\\Bhavik\\anaconda3\\Lib\\site-packages\\sklearn\\base.py:464: UserWarning: X does not have valid feature names, but LinearRegression was fitted with feature names\n",
      "  warnings.warn(\n"
     ]
    }
   ],
   "source": [
    "import pandas as pd\n",
    "from sklearn import linear_model\n",
    "import numpy as np\n",
    "import matplotlib.pyplot as plt \n",
    "\n",
    "df = pd.read_csv(\"canada_per_capita_income.csv\")\n",
    "df\n",
    "\n",
    "new_df = df.drop(columns= 'per capita income (US$)')\n",
    "new_df\n",
    "\n",
    "model = linear_model.LinearRegression()\n",
    "\n",
    "model.fit(new_df , df['per capita income (US$)'])\n",
    "\n",
    "print (model.predict([[2020]]))\n",
    "\n",
    "\n",
    "test_df = pd.read_csv(\"test.csv\")\n",
    "test_df\n",
    "\n",
    "p = model.predict(test_df)\n",
    "test_df['per capita income (US$)'] = p\n",
    "test_df\n",
    "\n",
    "test_df.to_csv('output.csv')\n",
    "\n"
   ]
  }
 ],
 "metadata": {
  "kernelspec": {
   "display_name": "base",
   "language": "python",
   "name": "python3"
  },
  "language_info": {
   "codemirror_mode": {
    "name": "ipython",
    "version": 3
   },
   "file_extension": ".py",
   "mimetype": "text/x-python",
   "name": "python",
   "nbconvert_exporter": "python",
   "pygments_lexer": "ipython3",
   "version": "3.11.5"
  }
 },
 "nbformat": 4,
 "nbformat_minor": 2
}
