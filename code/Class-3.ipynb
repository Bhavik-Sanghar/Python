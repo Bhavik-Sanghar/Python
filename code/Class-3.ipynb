{
 "cells": [
  {
   "cell_type": "markdown",
   "metadata": {},
   "source": [
    "Problem 1 :Python Program to Check Prime Number"
   ]
  },
  {
   "cell_type": "code",
   "execution_count": 1,
   "metadata": {},
   "outputs": [
    {
     "name": "stdout",
     "output_type": "stream",
     "text": [
      "Hello\n",
      "Number is prime\n"
     ]
    }
   ],
   "source": [
    "print(\"Hello\")\n",
    "\n",
    "def Prime(n):\n",
    "    # Check if n is less than 2 (1 is not a prime number)\n",
    "    if n < 2:\n",
    "        print(\"Number is not prime\")\n",
    "    else:\n",
    "        # Loop from 2 to the square root of n\n",
    "        for i in range(2, int(n**0.5) + 1):\n",
    "            # If n is divisible by any number in the range, it's not prime\n",
    "            if n % i == 0:\n",
    "                print(\"Number is not prime\")\n",
    "                break\n",
    "        else:\n",
    "            # If the loop completes without a break, n is prime\n",
    "            print(\"Number is prime\")\n",
    "\n",
    "x = 13\n",
    "Prime(x)\n"
   ]
  },
  {
   "cell_type": "markdown",
   "metadata": {},
   "source": [
    "Problem 2 :Python Program to Find the Factorial of a Number\n"
   ]
  },
  {
   "cell_type": "code",
   "execution_count": 2,
   "metadata": {},
   "outputs": [
    {
     "name": "stdout",
     "output_type": "stream",
     "text": [
      "Factorial of 6 is 720\n"
     ]
    }
   ],
   "source": [
    "def Fact(n):\n",
    "    # Check if n is less than 0\n",
    "    if n < 0:\n",
    "        print(\"Factorial is not defined for negative numbers.\")\n",
    "    else:\n",
    "        ans = 1\n",
    "        # Loop from n down to 1\n",
    "        for i in range(n, 1, -1):\n",
    "            ans *= i\n",
    "        \n",
    "        print(f\"Factorial of {n} is {ans}\")\n",
    "\n",
    "# Test the function with n = 6\n",
    "Fact(6)\n"
   ]
  },
  {
   "cell_type": "markdown",
   "metadata": {},
   "source": [
    "Problem 3:Python Program to Display the multiplication Table\n"
   ]
  },
  {
   "cell_type": "code",
   "execution_count": 4,
   "metadata": {},
   "outputs": [
    {
     "name": "stdout",
     "output_type": "stream",
     "text": [
      "5 X 1 = 5\n",
      "5 X 2 = 10\n",
      "5 X 3 = 15\n",
      "5 X 4 = 20\n",
      "5 X 5 = 25\n",
      "5 X 6 = 30\n",
      "5 X 7 = 35\n",
      "5 X 8 = 40\n",
      "5 X 9 = 45\n",
      "5 X 10 = 50\n"
     ]
    }
   ],
   "source": [
    "def multable(n):\n",
    "    for i in range (1,11):\n",
    "        print(f\"{n} X {i} = {n*i}\")\n",
    "multable(5)               "
   ]
  }
 ],
 "metadata": {
  "kernelspec": {
   "display_name": "base",
   "language": "python",
   "name": "python3"
  },
  "language_info": {
   "codemirror_mode": {
    "name": "ipython",
    "version": 3
   },
   "file_extension": ".py",
   "mimetype": "text/x-python",
   "name": "python",
   "nbconvert_exporter": "python",
   "pygments_lexer": "ipython3",
   "version": "3.11.5"
  }
 },
 "nbformat": 4,
 "nbformat_minor": 2
}
