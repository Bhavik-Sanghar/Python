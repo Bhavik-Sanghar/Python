{
 "cells": [
  {
   "cell_type": "markdown",
   "metadata": {},
   "source": [
    "Problem 1 :Python Program to Check Prime Number"
   ]
  },
  {
   "cell_type": "code",
   "execution_count": null,
   "metadata": {},
   "outputs": [],
   "source": [
    "print(\"Hello\")\n",
    "\n",
    "def Prime(n):\n",
    "    # Check if n is less than 2 (1 is not a prime number)\n",
    "    if n < 2:\n",
    "        print(\"Number is not prime\")\n",
    "    else:\n",
    "        # Loop from 2 to the square root of n\n",
    "        for i in range(2, int(n**0.5) + 1):\n",
    "            # If n is divisible by any number in the range, it's not prime\n",
    "            if n % i == 0:\n",
    "                print(\"Number is not prime\")\n",
    "                break\n",
    "        else:\n",
    "            # If the loop completes without a break, n is prime\n",
    "            print(\"Number is prime\")\n",
    "\n",
    "x = 13\n",
    "Prime(x)\n"
   ]
  },
  {
   "cell_type": "markdown",
   "metadata": {},
   "source": [
    "Problem 2 :Python Program to Find the Factorial of a Number\n"
   ]
  },
  {
   "cell_type": "code",
   "execution_count": null,
   "metadata": {},
   "outputs": [],
   "source": [
    "def Fact(n):\n",
    "    # Check if n is less than 0\n",
    "    if n < 0:\n",
    "        print(\"Factorial is not defined for negative numbers.\")\n",
    "    else:\n",
    "        ans = 1\n",
    "        # Loop from n down to 1\n",
    "        for i in range(n, 1, -1):\n",
    "            ans *= i\n",
    "        \n",
    "        print(f\"Factorial of {n} is {ans}\")\n",
    "\n",
    "# Test the function with n = 6\n",
    "Fact(6)\n"
   ]
  },
  {
   "cell_type": "markdown",
   "metadata": {},
   "source": [
    "Problem 3:Python Program to Display the multiplication Table\n"
   ]
  },
  {
   "cell_type": "code",
   "execution_count": null,
   "metadata": {},
   "outputs": [],
   "source": [
    "def multable(n):\n",
    "    for i in range (1,11):\n",
    "        print(f\"{n} X {i} = {n*i}\")\n",
    "        \n",
    "num = int(input(\"Enter a number: \"))\n",
    "multable(num)"
   ]
  },
  {
   "cell_type": "markdown",
   "metadata": {},
   "source": [
    "Problem-2 Define a function that accepts radius and returns the area of a circle.\n"
   ]
  },
  {
   "cell_type": "code",
   "execution_count": null,
   "metadata": {},
   "outputs": [
    {
     "name": "stdout",
     "output_type": "stream",
     "text": [
      "The area of a circle with radius 5 is 78.54\n"
     ]
    }
   ],
   "source": [
    "import math\n",
    "\n",
    "# Function to calculate the area of a circle given its radius\n",
    "def calculate_area(radius):\n",
    "    \"\"\"\n",
    "    Calculate the area of a circle.\n",
    "\n",
    "    Parameters:\n",
    "    - radius (float): The radius of the circle.\n",
    "\n",
    "    Returns:\n",
    "    - float: The area of the circle.\n",
    "    \"\"\"\n",
    "    area = math.pi * radius ** 2\n",
    "    return area\n",
    "\n",
    "# Test the function with a radius of 5\n",
    "radius_value = 5\n",
    "circle_area = calculate_area(radius_value)\n",
    "\n",
    "# Display the result\n",
    "print(f\"The area of a circle with radius {radius_value} is {circle_area:.2f}\")\n"
   ]
  },
  {
   "cell_type": "markdown",
   "metadata": {},
   "source": [
    "Problem 1 Fill in the Line class methods to accept coordinates as a pair of tuples and return the slope and distance of the line.\n"
   ]
  },
  {
   "cell_type": "code",
   "execution_count": 3,
   "metadata": {},
   "outputs": [
    {
     "name": "stdout",
     "output_type": "stream",
     "text": [
      "Slope of the line: 1.3333333333333333\n",
      "Distance between the points: 5.0\n"
     ]
    }
   ],
   "source": [
    "import math\n",
    "\n",
    "class Line:\n",
    "    def __init__(self, coord1, coord2):\n",
    "        \"\"\"\n",
    "        Initialize the Line object with two sets of coordinates.\n",
    "\n",
    "        Parameters:\n",
    "        - coord1 (tuple): (x, y) coordinates for the first point.\n",
    "        - coord2 (tuple): (x, y) coordinates for the second point.\n",
    "        \"\"\"\n",
    "        self.coord1 = coord1\n",
    "        self.coord2 = coord2\n",
    "\n",
    "    def calculate_slope(self):\n",
    "        \"\"\"\n",
    "        Calculate the slope of the line.\n",
    "\n",
    "        Returns:\n",
    "        - float: The slope of the line.\n",
    "        \"\"\"\n",
    "        x1, y1 = self.coord1\n",
    "        x2, y2 = self.coord2\n",
    "\n",
    "        # Avoid division by zero, return None for vertical lines\n",
    "        if x1 == x2:\n",
    "            return None\n",
    "        else:\n",
    "            return (y2 - y1) / (x2 - x1)\n",
    "\n",
    "    def calculate_distance(self):\n",
    "        \"\"\"\n",
    "        Calculate the distance between the two points.\n",
    "\n",
    "        Returns:\n",
    "        - float: The distance between the two points.\n",
    "        \"\"\"\n",
    "        x1, y1 = self.coord1\n",
    "        x2, y2 = self.coord2\n",
    "\n",
    "        return math.sqrt((x2 - x1)**2 + (y2 - y1)**2)\n",
    "\n",
    "# Example usage:\n",
    "# Define two points as tuples (x, y)\n",
    "point1 = (1, 2)\n",
    "point2 = (4, 6)\n",
    "\n",
    "# Create a Line object\n",
    "line_instance = Line(point1, point2)\n",
    "\n",
    "# Calculate and print the slope\n",
    "slope = line_instance.calculate_slope()\n",
    "print(f\"Slope of the line: {slope}\")\n",
    "\n",
    "# Calculate and print the distance\n",
    "distance = line_instance.calculate_distance()\n",
    "print(f\"Distance between the points: {distance}\")\n"
   ]
  },
  {
   "cell_type": "markdown",
   "metadata": {},
   "source": [
    "Problem 2:Create a class and attributes name and age and display a greeting message on the display"
   ]
  },
  {
   "cell_type": "code",
   "execution_count": 2,
   "metadata": {},
   "outputs": [
    {
     "name": "stdout",
     "output_type": "stream",
     "text": [
      "Hello Bhavik, your age is 20\n"
     ]
    }
   ],
   "source": [
    "class Greet:\n",
    "    def __init__(self, name, age):\n",
    "        \"\"\"\n",
    "        Initialize the Greet object with name and age.\n",
    "\n",
    "        Parameters:\n",
    "        - name (str): Name of the person.\n",
    "        - age (int): Age of the person.\n",
    "        \"\"\"\n",
    "        self.name = name\n",
    "        self.age = age\n",
    "\n",
    "    def display_message(self):\n",
    "        \"\"\"\n",
    "        Display a greeting message.\n",
    "\n",
    "        Prints:\n",
    "        - Greeting message including the name and age.\n",
    "        \"\"\"\n",
    "        print(f\"Hello {self.name}, your age is {self.age}\")\n",
    "\n",
    "# Create an instance of the Greet class\n",
    "greet1 = Greet(\"Bhavik\", 20)\n",
    "\n",
    "# Call the display_message method to show the greeting\n",
    "greet1.display_message()\n"
   ]
  }
 ],
 "metadata": {
  "kernelspec": {
   "display_name": "base",
   "language": "python",
   "name": "python3"
  },
  "language_info": {
   "codemirror_mode": {
    "name": "ipython",
    "version": 3
   },
   "file_extension": ".py",
   "mimetype": "text/x-python",
   "name": "python",
   "nbconvert_exporter": "python",
   "pygments_lexer": "ipython3",
   "version": "3.11.5"
  }
 },
 "nbformat": 4,
 "nbformat_minor": 2
}
