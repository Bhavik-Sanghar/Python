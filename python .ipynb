{
 "cells": [
  {
   "cell_type": "code",
   "execution_count": 1,
   "id": "3d677223",
   "metadata": {},
   "outputs": [
    {
     "name": "stdout",
     "output_type": "stream",
     "text": [
      "4\n"
     ]
    }
   ],
   "source": [
    "print(3+1)"
   ]
  },
  {
   "cell_type": "code",
   "execution_count": 4,
   "id": "ca4fe5ed",
   "metadata": {},
   "outputs": [
    {
     "name": "stdout",
     "output_type": "stream",
     "text": [
      "0\n",
      "2\n",
      "4\n",
      "6\n",
      "8\n"
     ]
    }
   ],
   "source": [
    "for i in range(0,10,2):\n",
    "    print (i)\n",
    "    "
   ]
  },
  {
   "cell_type": "code",
   "execution_count": 3,
   "id": "7211177f",
   "metadata": {},
   "outputs": [
    {
     "name": "stdout",
     "output_type": "stream",
     "text": [
      "10 is Greater than 9\n",
      "10 is Equal to 10\n"
     ]
    }
   ],
   "source": [
    "x = 10\n",
    "\n",
    "if x > 9:\n",
    "    print(f\"{x} is Greater than 9\")\n",
    "\n",
    "if x == 10:\n",
    "    print(f\"{x} is Equal to 10\")\n",
    "\n",
    "if x < 9:\n",
    "    print(f\"{x} is less than 9\")\n"
   ]
  },
  {
   "cell_type": "markdown",
   "id": "d40930d6",
   "metadata": {},
   "source": [
    "Problem1: Write a python program to find out the simple interest"
   ]
  },
  {
   "cell_type": "code",
   "execution_count": 7,
   "id": "fb7d33e6",
   "metadata": {},
   "outputs": [
    {
     "name": "stdout",
     "output_type": "stream",
     "text": [
      "Simple Interest  is  420.0\n"
     ]
    }
   ],
   "source": [
    "def SimpleInt( p , r , t):\n",
    "    si = (p*r*t)/100\n",
    "    return si\n",
    "\n",
    "print(\"Simple Interest  is \" ,  SimpleInt(3000,7,2))"
   ]
  },
  {
   "cell_type": "markdown",
   "id": "cb053f1d",
   "metadata": {},
   "source": [
    "Problem2: Wrie python program to check armstrong number\n"
   ]
  },
  {
   "cell_type": "code",
   "execution_count": 18,
   "id": "4b6881aa",
   "metadata": {},
   "outputs": [
    {
     "name": "stdout",
     "output_type": "stream",
     "text": [
      "153  is Armstrong\n",
      "122 is not Armstrong\n"
     ]
    }
   ],
   "source": [
    "def armstrong(n):\n",
    "    temp = n\n",
    "    sum = 0\n",
    "    while temp != 0:\n",
    "        digit = temp % 10\n",
    "        sum = sum + (digit * digit * digit)\n",
    "        temp = temp // 10\n",
    "    if sum == n:\n",
    "        print(f\"{n}  is Armstrong\")\n",
    "    else:\n",
    "        print(f\"{n} is not Armstrong\")\n",
    "\n",
    "armstrong(153)\n",
    "armstrong(122)"
   ]
  },
  {
   "cell_type": "markdown",
   "id": "77acac29",
   "metadata": {},
   "source": [
    "Problem 1:Predict proper output for the below code\n"
   ]
  },
  {
   "cell_type": "code",
   "execution_count": 20,
   "id": "47693f92",
   "metadata": {},
   "outputs": [
    {
     "name": "stdout",
     "output_type": "stream",
     "text": [
      "!\n"
     ]
    }
   ],
   "source": [
    "a = \"Hello, World!\"\n",
    "print(a[-1]) #ans is !"
   ]
  },
  {
   "cell_type": "markdown",
   "id": "acb2eca8",
   "metadata": {},
   "source": [
    "Problem 2: Write a python program to concatenate two strings\n"
   ]
  },
  {
   "cell_type": "code",
   "execution_count": 26,
   "id": "15505b9f",
   "metadata": {},
   "outputs": [
    {
     "name": "stdout",
     "output_type": "stream",
     "text": [
      "Bhavik Sangahr\n",
      "Bhavik Sangahr\n",
      "Bhavik Sangahr\n",
      "Bhavik Sangahr\n"
     ]
    }
   ],
   "source": [
    "str1 = \"Bhavik\"\n",
    "str2 = \"Sangahr\"\n",
    "#Approach 1\n",
    "str = str1 + \" \" +str2 \n",
    "print(str)\n",
    "\n",
    "#Approach 2\n",
    "print(str1 , str2)\n",
    "\n",
    "#Approach 3\n",
    "str = \" \".join([str1, str2])\n",
    "print(str)\n",
    "\n",
    "#Approach 4\n",
    "str = f\"{str1} {str2}\"\n",
    "print(str)"
   ]
  },
  {
   "cell_type": "markdown",
   "id": "ea2bd112",
   "metadata": {},
   "source": [
    "Problem 3: Write a python program to reverse string\n"
   ]
  },
  {
   "cell_type": "code",
   "execution_count": 1,
   "id": "053119f8",
   "metadata": {},
   "outputs": [
    {
     "name": "stdout",
     "output_type": "stream",
     "text": [
      "kivhaB\n",
      "!dlroW olleH\n",
      "kivhaB\n"
     ]
    }
   ],
   "source": [
    "str = \"Bahvik\"\n",
    "rev = \"\"\n",
    "n = len(str) - 1\n",
    "while n >= 0:\n",
    "    rev += str[n]\n",
    "    n = n - 1\n",
    "\n",
    "print(rev)\n",
    "\n",
    "#--------------------------------\n",
    "str_value = \"Hello World!\"\n",
    "rev = ''.join(reversed(str_value))\n",
    "print(rev)\n",
    "\n",
    "#--------------------------------\n",
    "\n",
    "\n",
    "str_value = \"Bahvik\"\n",
    "rev = str_value[::-1]\n",
    "print(rev)\n"
   ]
  },
  {
   "cell_type": "code",
   "execution_count": null,
   "id": "58e29bc5",
   "metadata": {},
   "outputs": [],
   "source": []
  },
  {
   "cell_type": "code",
   "execution_count": 28,
   "id": "331e3a8d",
   "metadata": {},
   "outputs": [
    {
     "name": "stdout",
     "output_type": "stream",
     "text": [
      "<class 'list'>\n",
      "['parul', 22, 'Bharat', 45.5, 'vadodara', 99]\n",
      "parul\n",
      "0\n",
      "2\n",
      "4\n",
      "6\n",
      "8\n"
     ]
    },
    {
     "data": {
      "text/plain": [
       "['Ak', 'Bharat', 45.5, 'vadodara', 99, 'Bhavik', 'Noon', 'Night']"
      ]
     },
     "execution_count": 28,
     "metadata": {},
     "output_type": "execute_result"
    }
   ],
   "source": [
    "# Create a list named lst1 with mixed data types\n",
    "lst1 = [\"parul\", 22, \"Bharat\", 45.5, \"vadodara\", 99]\n",
    "\n",
    "# Print the type of lst1, its content, and the first element\n",
    "print(type(lst1))\n",
    "print(lst1)\n",
    "print(lst1[0])\n",
    "\n",
    "# Access the second element of lst1\n",
    "lst1[1]\n",
    "\n",
    "# Get the length of the list\n",
    "len(lst1)\n",
    "\n",
    "# Print even numbers from 0 to 9 using a for loop\n",
    "for i in range(0, 10, 2):\n",
    "    print(i)\n",
    "\n",
    "# Remove the element 22 from lst1\n",
    "lst1.remove(22)\n",
    "lst1\n",
    "\n",
    "# Delete the first element of lst1\n",
    "del lst1[0]\n",
    "lst1\n",
    "\n",
    "# Append the string \"Bhavik\" to lst1\n",
    "lst1.append(\"Bhavik\")\n",
    "lst1\n",
    "\n",
    "# Insert the string \"Ak\" at the beginning of lst1\n",
    "lst1.insert(0, \"Ak\")\n",
    "lst1\n",
    "\n",
    "# Create another list named lst2\n",
    "lst2 = [\"Noon\", \"Night\"]\n",
    "\n",
    "# Extend lst1 with the elements of lst2\n",
    "lst1.extend(lst2)\n",
    "lst1\n"
   ]
  },
  {
   "cell_type": "code",
   "execution_count": 18,
   "id": "05a51990",
   "metadata": {},
   "outputs": [],
   "source": []
  }
 ],
 "metadata": {
  "kernelspec": {
   "display_name": "Python 3 (ipykernel)",
   "language": "python",
   "name": "python3"
  },
  "language_info": {
   "codemirror_mode": {
    "name": "ipython",
    "version": 3
   },
   "file_extension": ".py",
   "mimetype": "text/x-python",
   "name": "python",
   "nbconvert_exporter": "python",
   "pygments_lexer": "ipython3",
   "version": "3.11.5"
  }
 },
 "nbformat": 4,
 "nbformat_minor": 5
}
